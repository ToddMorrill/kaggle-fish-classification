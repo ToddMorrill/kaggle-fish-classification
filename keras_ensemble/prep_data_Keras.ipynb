{
 "cells": [
  {
   "cell_type": "code",
   "execution_count": 1,
   "metadata": {
    "collapsed": true
   },
   "outputs": [],
   "source": [
    "import os\n",
    "import random\n",
    "from shutil import copyfile, rmtree"
   ]
  },
  {
   "cell_type": "code",
   "execution_count": 2,
   "metadata": {
    "collapsed": false
   },
   "outputs": [],
   "source": [
    "seed=42\n",
    "random.seed(seed)\n",
    "train_pct = 0.8\n",
    "val_pct = 0.1\n",
    "test_pct = 0.1"
   ]
  },
  {
   "cell_type": "code",
   "execution_count": 3,
   "metadata": {
    "collapsed": true
   },
   "outputs": [],
   "source": [
    "train_path = \"/home/ai2-c3p0/Documents/code/todd_working_directory/KaggleFisheries/data/train/\"\n",
    "new_train_path = \"/home/ai2-c3p0/Documents/code/todd_working_directory/KaggleFisheries/data/train_split/\"\n",
    "new_val_path = \"/home/ai2-c3p0/Documents/code/todd_working_directory/KaggleFisheries/data/val_split/\"\n",
    "new_test_path = \"/home/ai2-c3p0/Documents/code/todd_working_directory/KaggleFisheries/data/test_split/\""
   ]
  },
  {
   "cell_type": "code",
   "execution_count": 4,
   "metadata": {
    "collapsed": false
   },
   "outputs": [],
   "source": [
    "try:\n",
    "    rmtree(new_train_path)\n",
    "    rmtree(new_val_path)\n",
    "    rmtree(new_test_path)\n",
    "except:\n",
    "    pass"
   ]
  },
  {
   "cell_type": "code",
   "execution_count": 5,
   "metadata": {
    "collapsed": true
   },
   "outputs": [],
   "source": [
    "os.mkdir(new_train_path)\n",
    "os.mkdir(new_val_path)\n",
    "os.mkdir(new_test_path)"
   ]
  },
  {
   "cell_type": "code",
   "execution_count": 6,
   "metadata": {
    "collapsed": false
   },
   "outputs": [],
   "source": [
    "for dir_ in os.listdir(train_path):\n",
    "    if os.path.isdir(train_path+dir_):\n",
    "        os.mkdir(new_train_path+dir_)\n",
    "        os.mkdir(new_val_path+dir_)\n",
    "        os.mkdir(new_test_path+dir_)\n",
    "        \n",
    "        pics = os.listdir(train_path+dir_)\n",
    "        random.shuffle(pics)\n",
    "        \n",
    "        train_stop_index = int(len(pics)*train_pct)\n",
    "        val_stop_index = int(len(pics)*(train_pct+val_pct))\n",
    "        train_pics = pics[:train_stop_index]\n",
    "        val_pics = pics[train_stop_index:val_stop_index] \n",
    "        test_pics = pics[val_stop_index:]\n",
    "\n",
    "        for pic in train_pics:\n",
    "            copyfile(train_path+dir_+\"/\"+pic,new_train_path+dir_+\"/\"+pic)\n",
    "        for pic in val_pics:\n",
    "            copyfile(train_path+dir_+\"/\"+pic,new_val_path+dir_+\"/\"+pic)            \n",
    "        for pic in test_pics:\n",
    "            copyfile(train_path+dir_+\"/\"+pic,new_test_path+dir_+\"/\"+pic)"
   ]
  },
  {
   "cell_type": "code",
   "execution_count": 7,
   "metadata": {
    "collapsed": true
   },
   "outputs": [],
   "source": [
    "def count_files(directory):\n",
    "    counter = 0\n",
    "    for dir_ in os.listdir(directory):\n",
    "        if os.path.isdir(directory+dir_):\n",
    "            temp = len(os.listdir(directory+dir_))\n",
    "            print dir_, temp\n",
    "            counter += temp\n",
    "    return counter"
   ]
  },
  {
   "cell_type": "code",
   "execution_count": 8,
   "metadata": {
    "collapsed": false
   },
   "outputs": [
    {
     "name": "stdout",
     "output_type": "stream",
     "text": [
      "train\n",
      "SHARK 140\n",
      "ALB 1375\n",
      "BET 160\n",
      "LAG 53\n",
      "DOL 93\n",
      "YFT 587\n",
      "NoF 372\n",
      "OTHER 239\n",
      "val\n",
      "SHARK 18\n",
      "ALB 172\n",
      "BET 20\n",
      "LAG 7\n",
      "DOL 12\n",
      "YFT 73\n",
      "NoF 46\n",
      "OTHER 30\n",
      "test\n",
      "SHARK 18\n",
      "ALB 172\n",
      "BET 20\n",
      "LAG 7\n",
      "DOL 12\n",
      "YFT 74\n",
      "NoF 47\n",
      "OTHER 30\n",
      "3019 378 380 3777\n"
     ]
    }
   ],
   "source": [
    "print \"train\"\n",
    "train_count = count_files(new_train_path)\n",
    "print \"val\"\n",
    "val_count = count_files(new_val_path)\n",
    "print \"test\"\n",
    "test_count = count_files(new_test_path)\n",
    "\n",
    "print train_count, val_count, test_count, sum((train_count, val_count, test_count))"
   ]
  }
 ],
 "metadata": {
  "anaconda-cloud": {},
  "kernelspec": {
   "display_name": "Python [conda root]",
   "language": "python",
   "name": "conda-root-py"
  },
  "language_info": {
   "codemirror_mode": {
    "name": "ipython",
    "version": 2
   },
   "file_extension": ".py",
   "mimetype": "text/x-python",
   "name": "python",
   "nbconvert_exporter": "python",
   "pygments_lexer": "ipython2",
   "version": "2.7.13"
  }
 },
 "nbformat": 4,
 "nbformat_minor": 2
}
